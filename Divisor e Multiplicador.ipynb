{
 "cells": [
  {
   "cell_type": "code",
   "execution_count": 2,
   "metadata": {},
   "outputs": [],
   "source": [
    "###DIVISOR"
   ]
  },
  {
   "cell_type": "code",
   "execution_count": 1,
   "metadata": {},
   "outputs": [
    {
     "name": "stdout",
     "output_type": "stream",
     "text": [
      "20\n",
      "2\n",
      "10\n"
     ]
    }
   ],
   "source": [
    "num = int(input())\n",
    "div = int(input())\n",
    "counter = 0\n",
    "if(num > 0):\n",
    "  for i in range(0, num, div):\n",
    "    counter += 1\n",
    "else:\n",
    "  for i in range(num, 0, div):\n",
    "    counter -= 1\n",
    "\n",
    "if(num + (div * counter)) < num:\n",
    "  counter += 1\n",
    "  \n",
    "print(counter)"
   ]
  },
  {
   "cell_type": "code",
   "execution_count": 3,
   "metadata": {},
   "outputs": [],
   "source": [
    "###MULTIPLIER"
   ]
  },
  {
   "cell_type": "code",
   "execution_count": 4,
   "metadata": {},
   "outputs": [
    {
     "name": "stdout",
     "output_type": "stream",
     "text": [
      "20\n",
      "2\n",
      "40\n"
     ]
    }
   ],
   "source": [
    "num = int(input())\n",
    "mult = int(input())\n",
    "\n",
    "for i in range(1, mult):\n",
    "  num += num\n",
    "\n",
    "print(num)"
   ]
  },
  {
   "cell_type": "code",
   "execution_count": null,
   "metadata": {},
   "outputs": [],
   "source": []
  }
 ],
 "metadata": {
  "kernelspec": {
   "display_name": "Python 3",
   "language": "python",
   "name": "python3"
  },
  "language_info": {
   "codemirror_mode": {
    "name": "ipython",
    "version": 3
   },
   "file_extension": ".py",
   "mimetype": "text/x-python",
   "name": "python",
   "nbconvert_exporter": "python",
   "pygments_lexer": "ipython3",
   "version": "3.8.3"
  }
 },
 "nbformat": 4,
 "nbformat_minor": 4
}
